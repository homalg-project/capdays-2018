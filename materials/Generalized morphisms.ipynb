{
 "cells": [
  {
   "cell_type": "markdown",
   "metadata": {},
   "source": [
    "# Computing with generalized morphisms\n",
    "\n",
    "## Introduction\n",
    "\n",
    "A very powerful tool for computing in abelian categories, for example for carrying out diagram chases, are generalized morphisms.\n",
    "\n",
    "Before we start computing with generalized morphisms, we need to understand what generalized morphisms are.\n",
    "\n",
    "#### Definition\n",
    "\n",
    "Let $\\mathcal{A}$ be an abelian category and $A,B,X \\in \\mathrm{Obj}_\\mathcal{A}$. A **span** $\\phi: A \\rightarrow_X B$ is a tuple of morphisms\n",
    "\n",
    "$$A \\leftarrow X \\rightarrow B,$$\n",
    "\n",
    "consisting of two morphisms with a common source.\n",
    "\n",
    "We call the morphism $X \\rightarrow A$ the **reversed arrow** of $\\phi$, and $X \\rightarrow B$ the **arrow** of $\\phi$."
   ]
  },
  {
   "cell_type": "markdown",
   "metadata": {},
   "source": [
    "A span $\\phi: A \\rightarrow_X B$ defines a relation between $A$ and $B$, i.e., a subobject of $A \\oplus B$. This subobject is defined by the image of the universal morphism into the direct sum $X \\rightarrow A \\oplus B$."
   ]
  },
  {
   "cell_type": "markdown",
   "metadata": {},
   "source": [
    "#### Definition\n",
    "\n",
    "A span $\\phi: A \\rightarrow_X B$ is **normalized** if the universal morphism $X \\rightarrow A \\oplus B$ is a monomorphism.\n",
    "\n",
    "#### Exercise 1\n",
    "\n",
    "> Write a function `is_normalized` that takes two morphisms that form a span and checks if the span is normalized."
   ]
  },
  {
   "cell_type": "code",
   "execution_count": 1,
   "metadata": {},
   "outputs": [
    {
     "data": {
      "text/plain": [
       "function( reversed_arrow, arrow ) ... end"
      ]
     },
     "execution_count": 1,
     "metadata": {
      "text/plain": ""
     },
     "output_type": "execute_result"
    }
   ],
   "source": [
    "is_normalized := function(reversed_arrow,arrow)\n",
    "end;"
   ]
  },
  {
   "cell_type": "markdown",
   "metadata": {},
   "source": [
    "We provide two test cases for this algorithm, using `LinearAlgebraForCAP`."
   ]
  },
  {
   "cell_type": "markdown",
   "metadata": {},
   "source": [
    "#### Test 1"
   ]
  },
  {
   "cell_type": "code",
   "execution_count": 7,
   "metadata": {},
   "outputs": [],
   "source": [
    "LoadPackage( \"LinearAlgebraForCAP\" );;\n",
    "\n",
    "QQ := HomalgFieldOfRationals();;\n",
    "\n",
    "C := VectorSpaceObject( 3, QQ );;\n",
    "\n",
    "A := \n",
    "VectorSpaceMorphism(\n",
    "VectorSpaceObject( 2, QQ ),\n",
    "HomalgMatrix( \"[1,1,0, 0,1,1]\", 2, 3, QQ ), \n",
    "C );;\n",
    "\n",
    "B := \n",
    "VectorSpaceMorphism(\n",
    "VectorSpaceObject( 2, QQ ),\n",
    "HomalgMatrix( \"[1,0,1, 1,1,0]\", 2, 3, QQ ), \n",
    "C );;\n",
    "\n",
    "is_normalized(A,B);"
   ]
  },
  {
   "cell_type": "markdown",
   "metadata": {},
   "source": [
    "#### Test 2"
   ]
  },
  {
   "cell_type": "code",
   "execution_count": 11,
   "metadata": {},
   "outputs": [],
   "source": [
    "C := VectorSpaceObject( 3, QQ );;\n",
    "\n",
    "A := \n",
    "VectorSpaceMorphism(\n",
    "C,\n",
    "HomalgMatrix( \"[1,1,0, 0,1,1]\", 3, 2, QQ ), \n",
    "VectorSpaceObject( 2, QQ ) );;\n",
    "\n",
    "B := \n",
    "VectorSpaceMorphism(\n",
    "C,\n",
    "HomalgMatrix( \"[1,0,1, 1,1,0]\", 3, 2, QQ ), \n",
    "VectorSpaceObject( 2, QQ ) );;\n",
    "\n",
    "is_normalized(A,B);"
   ]
  },
  {
   "cell_type": "markdown",
   "metadata": {},
   "source": [
    "#### Remark\n",
    "\n",
    "1. With a certain equivalence relation, for a given abelian category $\\mathcal{A}$ one can define the category of generalized morphisms of $\\mathcal{A}$, where the objects are the same as in $\\mathcal{A},$ and the morphisms are equivalence classes of spans. The definitions can be found in [SP1](https://dokumentix.ub.uni-siegen.de/opus/volltexte/2017/1179/) and [SG1](https://dokumentix.ub.uni-siegen.de/opus/volltexte/2017/1241/). We will restrict ourselves to just computing with spans, without taking care of the equivalence relation.\n",
    "2. There are other data structures for generalized morphisms are described in the literature above."
   ]
  },
  {
   "cell_type": "markdown",
   "metadata": {},
   "source": [
    "It is often necessary to compute a normalized span out of a span. Given a span $\\phi: A \\rightarrow_X B$, an **equivalent normalized span** is computed by first computing the pushout of the two morphisms the span consists of, and then computing the fiber product of the resulting two morphisms."
   ]
  },
  {
   "cell_type": "markdown",
   "metadata": {},
   "source": [
    "#### Exercise 2\n",
    "\n",
    "> Write a function `normalized_representative` that takes two morphisms that form a span and computes the two morphisms that compute a normalized representative. Use test case two from above to check your function.\n",
    ">\n",
    "> To compute a pushout, you can use the GAP commands `Pushout` and `InjectionOfCofactorOfPushout`. The pullback is\n",
    "computed using the commands `Pullback` and `ProjectionInFactorOfFiberProduct`."
   ]
  },
  {
   "cell_type": "code",
   "execution_count": 12,
   "metadata": {},
   "outputs": [
    {
     "data": {
      "text/plain": [
       "function( reversed_arrow, arrow ) ... end"
      ]
     },
     "execution_count": 12,
     "metadata": {
      "text/plain": ""
     },
     "output_type": "execute_result"
    }
   ],
   "source": [
    "normalized_representative := function(reversed_arrow,arrow)\n",
    "end;"
   ]
  },
  {
   "cell_type": "markdown",
   "metadata": {},
   "source": [
    "We call a span **honest** if the reversed arrow of a normalized representative is an isomorphism. Honest spans correspond to morphisms in $\\mathcal{A}$, and their **honest representative**, a morphism in $\\mathcal{A}$, can be computed by composing the inverse of the reversed arrow with the arrow."
   ]
  },
  {
   "cell_type": "markdown",
   "metadata": {},
   "source": [
    "### Generalized morphisms in diagram chases"
   ]
  },
  {
   "cell_type": "markdown",
   "metadata": {},
   "source": [
    "Generalized morphisms are a powerful tool to compute in abelian categories, specially for constructing morphisms via diagram chases. To carry out diagram chases, one needs to know how to represent morphisms from $\\mathcal{A}$ as spans, how to invert spans, and how to compose spans."
   ]
  },
  {
   "cell_type": "markdown",
   "metadata": {},
   "source": [
    "Given a morphism $\\psi: A \\rightarrow B \\in \\mathrm{Mor}_\\mathcal{A}$, the corresponding **honest span** of $\\psi$ is the span \n",
    "\n",
    "$$ A \\stackrel{\\mathrm{id}}{\\leftarrow} A \\stackrel{\\psi}{\\rightarrow} B.$$\n",
    "\n",
    "The **pseudo-inverse** of a span $ A \\stackrel{\\mathrm{\\phi}}{\\leftarrow} X \\stackrel{\\psi}{\\rightarrow} B$ is the span\n",
    "\n",
    "$$ B \\stackrel{\\mathrm{\\psi}}{\\leftarrow} X \\stackrel{\\phi}{\\rightarrow} A.$$"
   ]
  },
  {
   "cell_type": "markdown",
   "metadata": {},
   "source": [
    "The composition of two given spans can be carried out as follows: Suppose we have two spans\n",
    "\n",
    "$$ A \\stackrel{\\mathrm{\\alpha_1}}{\\leftarrow} X \\stackrel{\\alpha_2}{\\rightarrow} B \\text{ and } B \\stackrel{\\mathrm{\\beta_1}}{\\leftarrow} Y \\stackrel{\\beta_2}{\\rightarrow} C.$$\n",
    "\n",
    "Their composition is a span\n",
    "\n",
    "$$ A \\stackrel{\\mathrm{\\gamma_1}}{\\leftarrow} Z \\stackrel{\\gamma_2}{\\rightarrow} C $$\n",
    "\n",
    "with\n",
    "\n",
    "$$ \\gamma_1 := \\mathrm{ProjectionInFactorOfFiberproduct}(\\alpha_2,\\beta_1,1) \\cdot \\alpha_1 $$\n",
    "$$ \\gamma_2 := \\mathrm{ProjectionInFactorOfFiberproduct}(\\alpha_2,\\beta_1,2) \\cdot \\beta_2. $$"
   ]
  },
  {
   "cell_type": "markdown",
   "metadata": {},
   "source": [
    "#### Exercise 3\n",
    "\n",
    "> Write a function that computes the composition of two generalized morphisms, given as two lists of two morphisms."
   ]
  },
  {
   "cell_type": "code",
   "execution_count": 13,
   "metadata": {},
   "outputs": [
    {
     "data": {
      "text/plain": [
       "function( phi, psi ) ... end"
      ]
     },
     "execution_count": 13,
     "metadata": {
      "text/plain": ""
     },
     "output_type": "execute_result"
    }
   ],
   "source": [
    "precompose := function(phi,psi)\n",
    "    ## composition phi*psi\n",
    "end;"
   ]
  },
  {
   "cell_type": "markdown",
   "metadata": {},
   "source": [
    "#### Test case"
   ]
  },
  {
   "cell_type": "code",
   "execution_count": 18,
   "metadata": {},
   "outputs": [],
   "source": [
    "O1 := VectorSpaceObject(1,QQ);;\n",
    "O2 := VectorSpaceObject(2,QQ);;\n",
    "O3 := VectorSpaceObject(3,QQ);;\n",
    "\n",
    "psi := [ VectorSpaceMorphism( O2, [[-1,1,0],[-1,0,1]], O3 ), IdentityMorphism( O2 ) ];;\n",
    "phi := [ IdentityMorphism( O1 ), VectorSpaceMorphism(O1,[[1,-1,0]],O3) ];;\n",
    "\n",
    "# precompose(phi,psi);"
   ]
  },
  {
   "cell_type": "markdown",
   "metadata": {},
   "source": [
    "## Generalized morphisms in CAP"
   ]
  },
  {
   "cell_type": "markdown",
   "metadata": {},
   "source": [
    "All commands mentioned above are already implemented in the GAP package `GeneralizedMorphismsForCAP`. In this section, we will see how we can use generalized morphisms in `CAP`. As above, we use spans as data structure. The equality of generalized morphisms is the equivalence relation mentioned above, i.e., the equality of morphisms in the generalized morphism category.\n",
    "\n",
    "We start by loading the package."
   ]
  },
  {
   "cell_type": "code",
   "execution_count": 19,
   "metadata": {},
   "outputs": [
    {
     "data": {
      "text/plain": [
       "true"
      ]
     },
     "execution_count": 19,
     "metadata": {
      "text/plain": ""
     },
     "output_type": "execute_result"
    }
   ],
   "source": [
    "LoadPackage(\"GeneralizedMorphismsForCAP\");"
   ]
  },
  {
   "cell_type": "markdown",
   "metadata": {},
   "source": [
    "To create the generalized morphism of a morphism, we first need to define an abelian category. For demonstration purposes, we use the category of finite dimensional vector spaces implemented in the `LinearAlgebraForCAP` package."
   ]
  },
  {
   "cell_type": "code",
   "execution_count": 22,
   "metadata": {},
   "outputs": [
    {
     "data": {
      "text/plain": [
       "true"
      ]
     },
     "execution_count": 20,
     "metadata": {
      "text/plain": ""
     },
     "output_type": "execute_result"
    },
    {
     "data": {
      "text/plain": [
       "<field in characteristic 0>"
      ]
     },
     "execution_count": 21,
     "metadata": {
      "text/plain": ""
     },
     "output_type": "execute_result"
    },
    {
     "data": {
      "text/plain": [
       "Category of matrices over Q"
      ]
     },
     "execution_count": 22,
     "metadata": {
      "text/plain": ""
     },
     "output_type": "execute_result"
    }
   ],
   "source": [
    "LoadPackage(\"LinearAlgebraForCAP\");\n",
    "QQ := HomalgFieldOfRationals();\n",
    "vec := MatrixCategory(QQ);"
   ]
  },
  {
   "cell_type": "markdown",
   "metadata": {},
   "source": [
    "We can now create morphisms and their generalized counterparts"
   ]
  },
  {
   "cell_type": "code",
   "execution_count": 31,
   "metadata": {},
   "outputs": [],
   "source": [
    "O1 := VectorSpaceObject(1,QQ);;\n",
    "O2 := VectorSpaceObject(2,QQ);;\n",
    "O3 := VectorSpaceObject(3,QQ);;\n",
    "m1 := VectorSpaceMorphism(O1,[1,2],O2);;\n",
    "m2 := VectorSpaceMorphism(O2,[[1,2,3],[1,1,1]],O3);;\n",
    "m3 := VectorSpaceMorphism(O3,[[1,0],[0,1],[1,1]],O2);;\n",
    "gm1 := AsGeneralizedMorphismBySpan(m1);;\n",
    "gm2 := AsGeneralizedMorphismBySpan(m2);;\n",
    "gm3 := AsGeneralizedMorphismBySpan(m3);;"
   ]
  },
  {
   "cell_type": "markdown",
   "metadata": {},
   "source": [
    "We can not only lift morphisms from $\\mathcal{A}$ to their generalized counterparts, we can also create a generalized morphism out of two morphisms from $\\mathcal{A}$"
   ]
  },
  {
   "cell_type": "code",
   "execution_count": 34,
   "metadata": {},
   "outputs": [
    {
     "data": {
      "text/plain": [
       "<A morphism in Generalized morphism category of Category of matrices over Q by span>"
      ]
     },
     "execution_count": 34,
     "metadata": {
      "text/plain": ""
     },
     "output_type": "execute_result"
    }
   ],
   "source": [
    "m4 := VectorSpaceMorphism(O1,[1,2],O2);;\n",
    "m5 := VectorSpaceMorphism(O1,[1,2,3],O3);;\n",
    "\n",
    "GeneralizedMorphismBySpan(m4,m5);"
   ]
  },
  {
   "cell_type": "markdown",
   "metadata": {},
   "source": [
    "To compose two generalized morphisms, use the usual `PreCompose` command."
   ]
  },
  {
   "cell_type": "code",
   "execution_count": 35,
   "metadata": {},
   "outputs": [
    {
     "data": {
      "text/plain": [
       "<A morphism in Generalized morphism category of Category of matrices over Q by span>"
      ]
     },
     "execution_count": 35,
     "metadata": {
      "text/plain": ""
     },
     "output_type": "execute_result"
    }
   ],
   "source": [
    "gm4 := PreCompose(gm1,gm2);"
   ]
  },
  {
   "cell_type": "markdown",
   "metadata": {},
   "source": [
    "You can check for honesty using `IsHonest`, and compute a honest representative via `HonestRepresentative`"
   ]
  },
  {
   "cell_type": "code",
   "execution_count": 37,
   "metadata": {},
   "outputs": [
    {
     "data": {
      "text/plain": [
       "true"
      ]
     },
     "execution_count": 36,
     "metadata": {
      "text/plain": ""
     },
     "output_type": "execute_result"
    },
    {
     "data": {
      "text/plain": [
       "<A morphism in Category of matrices over Q>"
      ]
     },
     "execution_count": 37,
     "metadata": {
      "text/plain": ""
     },
     "output_type": "execute_result"
    }
   ],
   "source": [
    "IsHonest(gm4);\n",
    "hon := HonestRepresentative(gm4);"
   ]
  },
  {
   "cell_type": "markdown",
   "metadata": {},
   "source": [
    "Please note that the honest representative is the composition of `m1` and `m2`."
   ]
  },
  {
   "cell_type": "code",
   "execution_count": 39,
   "metadata": {},
   "outputs": [
    {
     "name": "stdout",
     "output_type": "stream",
     "text": [
      "[ [  3,  4,  5 ] ]\n",
      "\n",
      "A morphism in Category of matrices over Q\n",
      "[ [  3,  4,  5 ] ]\n",
      "\n",
      "A morphism in Category of matrices over Q\n"
     ]
    }
   ],
   "source": [
    "Display(hon);\n",
    "Display(PreCompose(m1,m2));"
   ]
  },
  {
   "cell_type": "markdown",
   "metadata": {},
   "source": [
    "To compute the pseudo-inverse, use the `PseudoInverse` command"
   ]
  },
  {
   "cell_type": "code",
   "execution_count": 40,
   "metadata": {},
   "outputs": [
    {
     "data": {
      "text/plain": [
       "<A morphism in Generalized morphism category of Category of matrices over Q by span>"
      ]
     },
     "execution_count": 40,
     "metadata": {
      "text/plain": ""
     },
     "output_type": "execute_result"
    }
   ],
   "source": [
    "pgm3 := PseudoInverse(gm3);"
   ]
  },
  {
   "cell_type": "markdown",
   "metadata": {},
   "source": [
    "Note that the pseudo-inverse of a non-isomorphism is not a honest morphism"
   ]
  },
  {
   "cell_type": "code",
   "execution_count": 41,
   "metadata": {},
   "outputs": [
    {
     "data": {
      "text/plain": [
       "false"
      ]
     },
     "execution_count": 41,
     "metadata": {
      "text/plain": ""
     },
     "output_type": "execute_result"
    }
   ],
   "source": [
    "IsHonest(pgm3);"
   ]
  },
  {
   "cell_type": "markdown",
   "metadata": {},
   "source": [
    "As a first example to emphasize the use of the pseudo-inverse we demonstrate how one can use the generalized morphisms to compute a kernel lift."
   ]
  },
  {
   "cell_type": "code",
   "execution_count": 43,
   "metadata": {},
   "outputs": [
    {
     "data": {
      "text/plain": [
       "<A morphism in Category of matrices over Q>"
      ]
     },
     "execution_count": 42,
     "metadata": {
      "text/plain": ""
     },
     "output_type": "execute_result"
    },
    {
     "data": {
      "text/plain": [
       "<A morphism in Category of matrices over Q>"
      ]
     },
     "execution_count": 43,
     "metadata": {
      "text/plain": ""
     },
     "output_type": "execute_result"
    }
   ],
   "source": [
    "phi := VectorSpaceMorphism(O3,[[1,0,0],[1,0,0],[1,0,0]],O3);\n",
    "tau := VectorSpaceMorphism(O1,[[1,-1,0]],O3);"
   ]
  },
  {
   "cell_type": "markdown",
   "metadata": {},
   "source": [
    "The compostion of `tau` and `phi` is zero, so we can compute a kernel lift."
   ]
  },
  {
   "cell_type": "code",
   "execution_count": 44,
   "metadata": {},
   "outputs": [
    {
     "data": {
      "text/plain": [
       "true"
      ]
     },
     "execution_count": 44,
     "metadata": {
      "text/plain": ""
     },
     "output_type": "execute_result"
    }
   ],
   "source": [
    "IsZero(PreCompose(tau,phi));"
   ]
  },
  {
   "cell_type": "code",
   "execution_count": 45,
   "metadata": {},
   "outputs": [
    {
     "name": "stdout",
     "output_type": "stream",
     "text": [
      "[ [  -1,   0 ] ]\n",
      "\n",
      "A morphism in Category of matrices over Q\n"
     ]
    }
   ],
   "source": [
    "Display(KernelLift(phi,tau));"
   ]
  },
  {
   "cell_type": "markdown",
   "metadata": {},
   "source": [
    "To compute the kernel lift via generalized morphisms, we take the pseudo inverse of the kernel embedding of `phi`, compose it with `tau`, and compute the honest representative."
   ]
  },
  {
   "cell_type": "code",
   "execution_count": 46,
   "metadata": {},
   "outputs": [
    {
     "data": {
      "text/plain": [
       "<A morphism in Generalized morphism category of Category of matrices over Q by span>"
      ]
     },
     "execution_count": 46,
     "metadata": {
      "text/plain": ""
     },
     "output_type": "execute_result"
    }
   ],
   "source": [
    "kappa_inv := PseudoInverse( AsGeneralizedMorphismBySpan( KernelEmbedding( phi )));"
   ]
  },
  {
   "cell_type": "code",
   "execution_count": 47,
   "metadata": {},
   "outputs": [
    {
     "data": {
      "text/plain": [
       "<A morphism in Generalized morphism category of Category of matrices over Q by span>"
      ]
     },
     "execution_count": 47,
     "metadata": {
      "text/plain": ""
     },
     "output_type": "execute_result"
    }
   ],
   "source": [
    "lift_gen := PreCompose( AsGeneralizedMorphismBySpan( tau ), kappa_inv );"
   ]
  },
  {
   "cell_type": "code",
   "execution_count": 48,
   "metadata": {},
   "outputs": [
    {
     "name": "stdout",
     "output_type": "stream",
     "text": [
      "[ [  -1,   0 ] ]\n",
      "\n",
      "A morphism in Category of matrices over Q\n"
     ]
    }
   ],
   "source": [
    "Display( HonestRepresentative( lift_gen ) );"
   ]
  },
  {
   "cell_type": "markdown",
   "metadata": {},
   "source": [
    "## Computing with generalized morphisms"
   ]
  },
  {
   "cell_type": "markdown",
   "metadata": {},
   "source": [
    "We will now learn how to carry out more demanding computations using generalized morphisms.\n",
    "\n",
    "None of the computations in this chapter will depend on the actual category we are working with, and can be carried out in any computable abelian category.\n",
    "\n",
    "We will first look at homology."
   ]
  },
  {
   "cell_type": "markdown",
   "metadata": {},
   "source": [
    "Given a chain complex $C_\\bullet$ in an abelian category\n",
    "\n",
    "$$ \\cdots \\leftarrow C_{i-1} \\stackrel{\\partial_i}{\\leftarrow} C_i \\stackrel{\\partial_{i+1}}{\\leftarrow} C_{i+1}  \\leftarrow \\cdots$$\n",
    "\n",
    "the $i$-th homology is defined as\n",
    "\n",
    "$$ H_i( C_\\bullet) := \\mathrm{KernelObject}(\\partial_i) / \\mathrm{ImageObject}(\\partial_{i+1}). $$\n",
    "\n",
    "We call the span\n",
    "\n",
    "$$ H_i( C_\\bullet) \\leftarrow \\mathrm{KernelObject}(\\partial_i) \\rightarrow C_i $$\n",
    "\n",
    "that arises from the computation of the homology the **$i$-th homology embedding.**"
   ]
  },
  {
   "cell_type": "markdown",
   "metadata": {},
   "source": [
    "#### Exercise 4\n",
    "\n",
    "> Write a function that computes the homology embedding, given two morphisms $\\partial_0$ and $\\partial_1$ in a complex. To do so, you first need to find out how the homology is computed in terms of abelian categories."
   ]
  },
  {
   "cell_type": "code",
   "execution_count": 49,
   "metadata": {},
   "outputs": [
    {
     "data": {
      "text/plain": [
       "function( delta_i_p_1, delta_i ) ... end"
      ]
     },
     "execution_count": 49,
     "metadata": {
      "text/plain": ""
     },
     "output_type": "execute_result"
    }
   ],
   "source": [
    "homology_embedding := function(delta_i_p_1, delta_i)\n",
    "end;"
   ]
  },
  {
   "cell_type": "markdown",
   "metadata": {},
   "source": [
    "#### Test case"
   ]
  },
  {
   "cell_type": "code",
   "execution_count": 53,
   "metadata": {},
   "outputs": [
    {
     "name": "stdout",
     "output_type": "stream",
     "text": [
      "[ [  0 ],\n",
      "  [  0 ] ]\n",
      "\n",
      "A morphism in Category of matrices over Q\n"
     ]
    }
   ],
   "source": [
    "delta_i_p_1 := VectorSpaceMorphism(\n",
    "O2, [[1,1,1],[1,1,1]], O3);;\n",
    "delta_i := VectorSpaceMorphism(\n",
    "O3, [[2],[-1],[-1]],O1);;\n",
    "\n",
    "c := PreCompose( delta_i_p_1, delta_i );;\n",
    "Display(c);\n",
    "\n",
    "# homology_embedding(delta_i_p_1, delta_i);"
   ]
  },
  {
   "cell_type": "markdown",
   "metadata": {},
   "source": [
    "The homology embedding provides a way to compute the functoriality of the homology. Given two chain complexes $(C_\\bullet,\\partial)$ and $(D_\\bullet,\\delta)$, a chain map $\\alpha_\\bullet: C_\\bullet \\rightarrow D_\\bullet$ is a collection of morphisms $\\alpha_i: C_i \\rightarrow D_i$ such that\n",
    "\n",
    "$$ \\alpha_i \\cdot \\delta_i = \\partial_i \\cdot \\alpha_{i-1}.$$\n",
    "\n",
    "A chain map defines a morphism between the $i$-th homologies of the two complexes. We can compute this by composing the homology embedding of $C_\\bullet$ with $\\alpha_i$ and the pseudo-inverse of the homology embedding of $D_\\bullet$, and then taking the honest representative of the composition."
   ]
  },
  {
   "cell_type": "markdown",
   "metadata": {},
   "source": [
    "#### Exercise 5\n",
    "\n",
    "> Write a function that, given two parts of a complex and a chain morphism, computes the functoriality between the two homologies."
   ]
  },
  {
   "cell_type": "code",
   "execution_count": 54,
   "metadata": {},
   "outputs": [
    {
     "data": {
      "text/plain": [
       "function( partial_i, partial_i_1, alpha_i, delta_i, delta_i_1 ) ... end"
      ]
     },
     "execution_count": 54,
     "metadata": {
      "text/plain": ""
     },
     "output_type": "execute_result"
    }
   ],
   "source": [
    "homology_functor := function(partial_i, partial_i_1,alpha_i,delta_i,delta_i_1)\n",
    "end;"
   ]
  },
  {
   "cell_type": "markdown",
   "metadata": {},
   "source": [
    "#### Test case"
   ]
  },
  {
   "cell_type": "code",
   "execution_count": 59,
   "metadata": {},
   "outputs": [],
   "source": [
    "partial_i_p_1 := VectorSpaceMorphism(\n",
    "O2, [[1,1,1],[1,1,1]], O3);;\n",
    "partial_i := VectorSpaceMorphism(\n",
    "O3, [[2],[-1],[-1]],O1);;\n",
    "\n",
    "delta_i_p_1 := VectorSpaceMorphism(\n",
    "O3,[[1,1,1],[0,1,0],[1,-1,1]],O3);;\n",
    "delta_i := UniversalMorphismIntoZeroObject( O3 );;\n",
    "\n",
    "alpha_i := IdentityMorphism( O3 );;\n",
    "\n",
    "# homology_functor(partial_i, partial_i_p_1,alpha_i,delta_i,delta_i_p_1)"
   ]
  },
  {
   "cell_type": "markdown",
   "metadata": {},
   "source": [
    "We can now proceed to do are more sophisticated diagram chase. Have a look at the [snake lemma](https://en.wikipedia.org/wiki/Snake_lemma)."
   ]
  },
  {
   "cell_type": "markdown",
   "metadata": {},
   "source": [
    "#### Exercise 6\n",
    "\n",
    "> Write a function that computes the connecting homomorphism in the snake lemma, using generalized morphisms. Which input data is necessary to compute the connecting homomorphism? Provide a test case and **compute the snake!**"
   ]
  },
  {
   "cell_type": "code",
   "execution_count": null,
   "metadata": {},
   "outputs": [],
   "source": []
  }
 ],
 "metadata": {
  "kernelspec": {
   "display_name": "GAP 4 (native)",
   "language": "gap",
   "name": "gap-native"
  },
  "language_info": {
   "codemirror_mode": "gap",
   "file_extension": ".g",
   "mimetype": "text/x-gap",
   "name": "GAP (native)",
   "nbconvert_exporter": "",
   "pygments_lexer": "gap",
   "version": "4.dev"
  }
 },
 "nbformat": 4,
 "nbformat_minor": 2
}
